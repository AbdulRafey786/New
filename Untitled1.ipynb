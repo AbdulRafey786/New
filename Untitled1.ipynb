{
  "nbformat": 4,
  "nbformat_minor": 0,
  "metadata": {
    "colab": {
      "provenance": []
    },
    "kernelspec": {
      "name": "python3",
      "display_name": "Python 3"
    },
    "language_info": {
      "name": "python"
    }
  },
  "cells": [
    {
      "cell_type": "code",
      "execution_count": null,
      "metadata": {
        "colab": {
          "base_uri": "https://localhost:8080/"
        },
        "id": "v7aRHZAT7aMs",
        "outputId": "39d51a30-19c1-43cc-e813-5ac1c8283ae3"
      },
      "outputs": [
        {
          "output_type": "stream",
          "name": "stdout",
          "text": [
            "hello\bworld\n"
          ]
        }
      ],
      "source": [
        "print('hello\\bworld')"
      ]
    },
    {
      "cell_type": "code",
      "source": [
        "first_number = str(input('Enter first number'))\n",
        "second_number = str(input('Enter second number'))\n",
        "sum = (first_number + second_number)\n",
        "print('Addition of two number is:',sum)"
      ],
      "metadata": {
        "colab": {
          "base_uri": "https://localhost:8080/"
        },
        "id": "ZEKXOc8C8GMs",
        "outputId": "a6cf8cf6-70c7-4145-ed70-a41f5667b309"
      },
      "execution_count": null,
      "outputs": [
        {
          "output_type": "stream",
          "name": "stdout",
          "text": [
            "Enter first number6\n",
            "Enter second number8\n",
            "Addition of two number is: 68\n"
          ]
        }
      ]
    },
    {
      "cell_type": "code",
      "source": [
        "#correction\n",
        "first_number = int(input('Enter first number'))\n",
        "second_number = int(input('Enter second number'))\n",
        "sum = (first_number + second_number)\n",
        "print('Addition of two number is:',sum)"
      ],
      "metadata": {
        "colab": {
          "base_uri": "https://localhost:8080/"
        },
        "id": "elqKJCbN9I71",
        "outputId": "33906932-3217-4ea2-b7f1-41148d1c0f34"
      },
      "execution_count": null,
      "outputs": [
        {
          "output_type": "stream",
          "name": "stdout",
          "text": [
            "Enter first number6\n",
            "Enter second number8\n",
            "Addition of two number is: 14\n"
          ]
        }
      ]
    },
    {
      "cell_type": "code",
      "source": [
        "age = 23\n",
        "\n",
        "message = 'Happy'+ age +'rd Birthday!'\n",
        "print(message)"
      ],
      "metadata": {
        "colab": {
          "base_uri": "https://localhost:8080/",
          "height": 217
        },
        "id": "1_BrV_I_9XYM",
        "outputId": "95ad2759-a231-442f-ebd1-2731d1000620"
      },
      "execution_count": null,
      "outputs": [
        {
          "output_type": "error",
          "ename": "TypeError",
          "evalue": "ignored",
          "traceback": [
            "\u001b[0;31m---------------------------------------------------------------------------\u001b[0m",
            "\u001b[0;31mTypeError\u001b[0m                                 Traceback (most recent call last)",
            "\u001b[0;32m<ipython-input-12-156f151ae16e>\u001b[0m in \u001b[0;36m<cell line: 3>\u001b[0;34m()\u001b[0m\n\u001b[1;32m      1\u001b[0m \u001b[0mage\u001b[0m \u001b[0;34m=\u001b[0m \u001b[0;36m23\u001b[0m\u001b[0;34m\u001b[0m\u001b[0;34m\u001b[0m\u001b[0m\n\u001b[1;32m      2\u001b[0m \u001b[0;34m\u001b[0m\u001b[0m\n\u001b[0;32m----> 3\u001b[0;31m \u001b[0mmessage\u001b[0m \u001b[0;34m=\u001b[0m \u001b[0;34m'Happy'\u001b[0m\u001b[0;34m+\u001b[0m \u001b[0mage\u001b[0m \u001b[0;34m+\u001b[0m\u001b[0;34m'rd Birthday!'\u001b[0m\u001b[0;34m\u001b[0m\u001b[0;34m\u001b[0m\u001b[0m\n\u001b[0m\u001b[1;32m      4\u001b[0m \u001b[0mprint\u001b[0m\u001b[0;34m(\u001b[0m\u001b[0mmessage\u001b[0m\u001b[0;34m)\u001b[0m\u001b[0;34m\u001b[0m\u001b[0;34m\u001b[0m\u001b[0m\n",
            "\u001b[0;31mTypeError\u001b[0m: can only concatenate str (not \"int\") to str"
          ]
        }
      ]
    },
    {
      "cell_type": "code",
      "source": [
        "#correction\n",
        "age = '23'\n",
        "message = 'Happy '+ age +'rd Birthday!'\n",
        "print(message)"
      ],
      "metadata": {
        "colab": {
          "base_uri": "https://localhost:8080/"
        },
        "id": "kkr3QmKN95HM",
        "outputId": "4671ab49-f523-4608-97f0-0798e3e558c8"
      },
      "execution_count": null,
      "outputs": [
        {
          "output_type": "stream",
          "name": "stdout",
          "text": [
            "Happy 23rd Birthday!\n"
          ]
        }
      ]
    },
    {
      "cell_type": "code",
      "source": [
        "a = 5\n",
        "print('a=',sep='0',end=',')"
      ],
      "metadata": {
        "colab": {
          "base_uri": "https://localhost:8080/"
        },
        "id": "ZzBEtfEI_t2s",
        "outputId": "263f066d-5864-4b69-ce9c-f632e555a0e5"
      },
      "execution_count": null,
      "outputs": [
        {
          "output_type": "stream",
          "name": "stdout",
          "text": [
            "a=,"
          ]
        }
      ]
    },
    {
      "cell_type": "code",
      "source": [
        "#correction\n",
        "a = 5\n",
        "print('a=',a,sep='0',end=',')"
      ],
      "metadata": {
        "colab": {
          "base_uri": "https://localhost:8080/"
        },
        "id": "7wOOknSnAbNL",
        "outputId": "ddb7fd57-5563-4c78-8a9f-620b83735f98"
      },
      "execution_count": null,
      "outputs": [
        {
          "output_type": "stream",
          "name": "stdout",
          "text": [
            "a=05,"
          ]
        }
      ]
    },
    {
      "cell_type": "code",
      "source": [
        "name = input('Enter Employe Name')\n",
        "salary = input('Enter salary')\n",
        "company = input('Enter Company Name')\n",
        "print('Printing Empoloyee Details')\n",
        "print('Name\\t','Salary\\t','Company\\t')\n",
        "print(name   ,salary,    company,sep='')"
      ],
      "metadata": {
        "colab": {
          "base_uri": "https://localhost:8080/"
        },
        "id": "YeZ0gtNVArbL",
        "outputId": "e24e18b1-d3c9-4f9b-a681-cf0dd9ae9fa7"
      },
      "execution_count": null,
      "outputs": [
        {
          "output_type": "stream",
          "name": "stdout",
          "text": [
            "Enter Employe Namef\n",
            "Enter salary4\n",
            "Enter Company Namegg\n",
            "Printing Empoloyee Details\n",
            "Name\t Salary\t Company\t\n",
            "f4gg\n"
          ]
        }
      ]
    },
    {
      "cell_type": "code",
      "source": [
        "n1 = int(input('Enter n1 value'))\n",
        "n2 = int(input('Enter n2 value'))"
      ],
      "metadata": {
        "colab": {
          "base_uri": "https://localhost:8080/"
        },
        "id": "kF4GvX5pCPNb",
        "outputId": "a4868b4c-bfdb-47db-d7c5-ba38ad757bf2"
      },
      "execution_count": null,
      "outputs": [
        {
          "name": "stdout",
          "output_type": "stream",
          "text": [
            "Enter n1 value56\n",
            "Enter n2 value787\n"
          ]
        }
      ]
    },
    {
      "cell_type": "code",
      "source": [
        "Name = input('Enter students name')\n",
        "DOB = input('Enter date of birth')\n",
        "Roll_No = input('Enter roll number')\n",
        "Section = input('Enter section' )\n",
        "Percentage = input('Enter %')\n",
        "Matriculation = input('Enter matriculation grade')\n",
        "Intermediate = input('Emnter intermediate grade')"
      ],
      "metadata": {
        "colab": {
          "base_uri": "https://localhost:8080/"
        },
        "id": "dxQAe8BqLlNj",
        "outputId": "f9222ce4-6396-47fa-d9cb-b00d7cafe4ee"
      },
      "execution_count": null,
      "outputs": [
        {
          "name": "stdout",
          "output_type": "stream",
          "text": [
            "Enter students nameabdul rehman\n",
            "Enter date of birth04/05/2005\n",
            "Enter roll number138\n",
            "Enter sectionB\n",
            "Enter %90\n",
            "Enter matriculation gradeA+\n",
            "Emnter intermediate gradeA-one\n"
          ]
        }
      ]
    },
    {
      "cell_type": "code",
      "source": [],
      "metadata": {
        "id": "Jk9dbMdROc90"
      },
      "execution_count": null,
      "outputs": []
    }
  ]
}